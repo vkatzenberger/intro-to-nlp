{
 "cells": [
  {
   "cell_type": "markdown",
   "id": "196573c5",
   "metadata": {},
   "source": [
    "# 2.2 Lowercase\n",
    "\n",
    "An important first step in working with text data is simply converting it into lowercase. Why do we do this? Well, it helps maintain consistency in our data and our output. When we're working with text, be that exploratory analysis or machine learning, we want to ensure words are understood and counted as the same word, your model might treat a word with a capital letter different from the same word  without any capital letter. Lowercasing ensures conformity.\n",
    "\n",
    "It also make it easier to continue with additonal cleaning of the data as we don’t have to account for different cases.\n",
    "\n",
    "However, do remember that lowercasing can change the meaning of some text e.g \"US\" in uppercase is understood as a country, as opposed to \"us\".\n",
    "\n",
    "Let's take a look at how easy it is to convert our data to lowercase using python's built in lower() function."
   ]
  },
  {
   "cell_type": "code",
   "execution_count": 20,
   "id": "c7c266d9",
   "metadata": {},
   "outputs": [
    {
     "name": "stdout",
     "output_type": "stream",
     "text": [
      "Her cat's name is Luna\n"
     ]
    }
   ],
   "source": [
    "sentence = \"Her cat's name is Luna\"\n",
    "print(sentence)"
   ]
  },
  {
   "cell_type": "code",
   "execution_count": 21,
   "id": "c838cee8",
   "metadata": {},
   "outputs": [
    {
     "name": "stdout",
     "output_type": "stream",
     "text": [
      "her cat's name is luna\n"
     ]
    }
   ],
   "source": [
    "# .lower() converts all characters in the sentence to lowercase\n",
    "lower_sentence = sentence.lower()\n",
    "print(lower_sentence)"
   ]
  },
  {
   "cell_type": "code",
   "execution_count": 22,
   "id": "b18fb854",
   "metadata": {},
   "outputs": [
    {
     "name": "stdout",
     "output_type": "stream",
     "text": [
      "['Could you pass me the TV remote?', 'It is IMPOSSIBLE to find this hotel', 'Want to go for dinner on Tuesday?']\n"
     ]
    }
   ],
   "source": [
    "sentence_list = ['Could you pass me the TV remote?', \n",
    "                 'It is IMPOSSIBLE to find this hotel', \n",
    "                 'Want to go for dinner on Tuesday?']\n",
    "print(sentence_list)"
   ]
  },
  {
   "cell_type": "code",
   "execution_count": 23,
   "id": "37d2afec",
   "metadata": {},
   "outputs": [
    {
     "name": "stdout",
     "output_type": "stream",
     "text": [
      "['could you pass me the tv remote?', 'it is impossible to find this hotel', 'want to go for dinner on tuesday?']\n"
     ]
    }
   ],
   "source": [
    "# List comprehension to lowercase each sentence in the list = short and efficient\n",
    "lower_sentence_list = [x.lower() for x in sentence_list]\n",
    "print(lower_sentence_list)"
   ]
  },
  {
   "cell_type": "markdown",
   "id": "0b9eb842",
   "metadata": {},
   "source": [
    "## Another Example"
   ]
  },
  {
   "cell_type": "code",
   "execution_count": 24,
   "id": "b61004d4",
   "metadata": {},
   "outputs": [
    {
     "name": "stdout",
     "output_type": "stream",
     "text": [
      "['urgent: password reset', 'welcome to our newsletter', 'you won a prize!']\n"
     ]
    }
   ],
   "source": [
    "# Let's normalize email subjects before filtering for keywords\n",
    "emails = [\"URGENT: Password reset\", \"Welcome to our Newsletter\", \"YOU WON a prize!\"]\n",
    "emails_lower = [email.lower() for email in emails]\n",
    "print(emails_lower)"
   ]
  },
  {
   "cell_type": "markdown",
   "id": "ce5c3171",
   "metadata": {},
   "source": [
    "## What I Learned"
   ]
  },
  {
   "cell_type": "markdown",
   "id": "cde6b2bb",
   "metadata": {},
   "source": [
    "- .lower() is useful for case-insensitive text processing -> **use .lower() to normalize text for easier comparison, search, or preprocessing**\n",
    "\n",
    "- **List comprehensions** are great for applying transformations across lists in one line.\n",
    "\n",
    "- Always normalize casing before comparing strings in NLP or text-based tasks."
   ]
  }
 ],
 "metadata": {
  "kernelspec": {
   "display_name": "nlp_course_env",
   "language": "python",
   "name": "python3"
  },
  "language_info": {
   "codemirror_mode": {
    "name": "ipython",
    "version": 3
   },
   "file_extension": ".py",
   "mimetype": "text/x-python",
   "name": "python",
   "nbconvert_exporter": "python",
   "pygments_lexer": "ipython3",
   "version": "3.11.11"
  }
 },
 "nbformat": 4,
 "nbformat_minor": 5
}
